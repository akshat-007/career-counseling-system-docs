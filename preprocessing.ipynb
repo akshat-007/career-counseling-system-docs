{
 "cells": [
  {
   "cell_type": "code",
   "execution_count": 2,
   "metadata": {},
   "outputs": [
    {
     "name": "stderr",
     "output_type": "stream",
     "text": [
      "[nltk_data] Downloading package stopwords to /Users/akshu/nltk_data...\n",
      "[nltk_data]   Package stopwords is already up-to-date!\n"
     ]
    },
    {
     "data": {
      "text/plain": [
       "True"
      ]
     },
     "execution_count": 2,
     "metadata": {},
     "output_type": "execute_result"
    }
   ],
   "source": [
    "# Import necessary libraries\n",
    "import pandas as pd\n",
    "import re\n",
    "from nltk.corpus import stopwords\n",
    "from nltk.stem import PorterStemmer\n",
    "from sklearn.feature_extraction.text import TfidfVectorizer\n",
    "import nltk\n",
    "nltk.download('stopwords')\n"
   ]
  },
  {
   "cell_type": "code",
   "execution_count": 3,
   "metadata": {},
   "outputs": [],
   "source": [
    "# Load the dataset\n",
    "file_path = '/Users/akshu/career_counseling_system/Datasets/clean_data.parquet'\n",
    "data = pd.read_parquet(file_path)"
   ]
  },
  {
   "cell_type": "code",
   "execution_count": 4,
   "metadata": {},
   "outputs": [
    {
     "name": "stdout",
     "output_type": "stream",
     "text": [
      "Rows after dropping NaNs: 1415417\n",
      "Rows after dropping duplicates: 1415417\n"
     ]
    }
   ],
   "source": [
    "# Drop missing values\n",
    "data.dropna(subset=['job_title', 'job_desc'], inplace=True)\n",
    "# Remove duplicates\n",
    "data.drop_duplicates(subset=['job_title', 'job_desc'], inplace=True)\n",
    "print(f\"Rows after dropping NaNs: {data.shape[0]}\")\n",
    "print(f\"Rows after dropping duplicates: {data.shape[0]}\")\n"
   ]
  },
  {
   "cell_type": "code",
   "execution_count": 5,
   "metadata": {},
   "outputs": [],
   "source": [
    "from nltk.stem import WordNetLemmatizer\n",
    "lemmatizer = WordNetLemmatizer()\n",
    "data['job_title'] = data['job_title'].apply(lambda x: ' '.join([lemmatizer.lemmatize(word) for word in x.split()]))\n",
    "data['job_desc'] = data['job_desc'].apply(lambda x: ' '.join([lemmatizer.lemmatize(word) for word in x.split()]))\n"
   ]
  },
  {
   "cell_type": "code",
   "execution_count": 6,
   "metadata": {},
   "outputs": [],
   "source": [
    "from nltk.corpus import stopwords\n",
    "stop_words = set(stopwords.words('english'))\n",
    "\n",
    "def preprocess_text(text):\n",
    "    words = re.sub(r'[^a-zA-Z\\s]', '', text.lower()).split()  # Normalize and tokenize\n",
    "    words = [word for word in words if word not in stop_words] # Remove stopwords\n",
    "    words = [lemmatizer.lemmatize(word) for word in words]     # Lemmatize\n",
    "    return ' '.join(words)\n",
    "\n",
    "data['job_title'] = data['job_title'].apply(preprocess_text)\n",
    "data['job_desc'] = data['job_desc'].apply(preprocess_text)\n"
   ]
  },
  {
   "cell_type": "code",
   "execution_count": 7,
   "metadata": {},
   "outputs": [],
   "source": [
    "# Feature engineering\n",
    "data['title_length'] = data['job_title'].apply(len)\n",
    "data['desc_length'] = data['job_desc'].apply(len)\n"
   ]
  },
  {
   "cell_type": "code",
   "execution_count": 10,
   "metadata": {},
   "outputs": [],
   "source": [
    "data['combined_text'] = data['job_title'] + \" \" + data['job_desc']\n",
    "vectorizer = TfidfVectorizer(max_features=5000)  # Limit features to reduce memory usage\n",
    "X_combined = vectorizer.fit_transform(data['combined_text'])\n"
   ]
  },
  {
   "cell_type": "code",
   "execution_count": null,
   "metadata": {},
   "outputs": [],
   "source": [
    "data.to_parquet('preprocessed_data.parquet')\n"
   ]
  },
  {
   "cell_type": "code",
   "execution_count": null,
   "metadata": {},
   "outputs": [],
   "source": []
  },
  {
   "cell_type": "code",
   "execution_count": null,
   "metadata": {},
   "outputs": [],
   "source": []
  }
 ],
 "metadata": {
  "kernelspec": {
   "display_name": "venv",
   "language": "python",
   "name": "python3"
  },
  "language_info": {
   "codemirror_mode": {
    "name": "ipython",
    "version": 3
   },
   "file_extension": ".py",
   "mimetype": "text/x-python",
   "name": "python",
   "nbconvert_exporter": "python",
   "pygments_lexer": "ipython3",
   "version": "3.9.6"
  }
 },
 "nbformat": 4,
 "nbformat_minor": 2
}
